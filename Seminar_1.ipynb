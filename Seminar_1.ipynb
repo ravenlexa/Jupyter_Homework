{
 "cells": [
  {
   "cell_type": "markdown",
   "id": "e4c9c3bb",
   "metadata": {},
   "source": [
    "# Задание 1"
   ]
  },
  {
   "cell_type": "markdown",
   "id": "f57ca6de",
   "metadata": {},
   "source": [
    "# Условие 1:\n",
    "**Оформляйте ноутбук, используя эти советы:**\n",
    "## Номер задачи - заголовок 2\n",
    "### Номер подзадачи - заголовок 3"
   ]
  },
  {
   "cell_type": "markdown",
   "id": "5634899e",
   "metadata": {},
   "source": [
    "# Задание 2"
   ]
  },
  {
   "cell_type": "markdown",
   "id": "d2fd6699",
   "metadata": {},
   "source": [
    "**На складе лежат разные фрукты в разном количестве.\n",
    "Нужно написать функцию, которая на вход принимает любое количество названий фруктов и их количество, а возвращает общее количество фруктов на складе**"
   ]
  },
  {
   "cell_type": "code",
   "execution_count": 6,
   "id": "9e0d33f9",
   "metadata": {},
   "outputs": [],
   "source": [
    "def fruits(*args):\n",
    "    result = sum(args)\n",
    "    return print(f'Всего фруктов на складе: {result}')"
   ]
  },
  {
   "cell_type": "code",
   "execution_count": 7,
   "id": "6f2397a4",
   "metadata": {},
   "outputs": [],
   "source": [
    "apples = 20\n",
    "oranges = 31\n",
    "bananas = 15"
   ]
  },
  {
   "cell_type": "code",
   "execution_count": 8,
   "id": "0a4aea3e",
   "metadata": {},
   "outputs": [
    {
     "name": "stdout",
     "output_type": "stream",
     "text": [
      "Всего фруктов на складе: 66\n"
     ]
    }
   ],
   "source": [
    "fruits(apples, oranges, bananas)"
   ]
  },
  {
   "cell_type": "markdown",
   "id": "6432ca4e",
   "metadata": {},
   "source": [
    "# Задание 3"
   ]
  },
  {
   "cell_type": "markdown",
   "id": "eba42b00",
   "metadata": {},
   "source": [
    "**Дан список с затратами на рекламу. Но в данных есть ошибки, некоторые затраты имеют отрицательную величину. Удалите такие значения из списка и посчитайте суммарные затраты\n",
    "[100, 125, -90, 345, 655, -1, 0, 200]\n",
    "Используйте list comprehensions**"
   ]
  },
  {
   "cell_type": "code",
   "execution_count": 9,
   "id": "ad2382ae",
   "metadata": {},
   "outputs": [
    {
     "data": {
      "text/plain": [
       "[100, 125, 345, 655, 0, 200]"
      ]
     },
     "execution_count": 9,
     "metadata": {},
     "output_type": "execute_result"
    }
   ],
   "source": [
    "list_advertising = [100, 125, -90, 345, 655, -1, 0, 200]\n",
    "new_list_advertising = [i for i in list_advertising if i >= 0] # не убрал 0, т.к. в задании только про отрицательные написано\n",
    "new_list_advertising"
   ]
  },
  {
   "cell_type": "code",
   "execution_count": 10,
   "id": "adbb3e14",
   "metadata": {},
   "outputs": [
    {
     "data": {
      "text/plain": [
       "1425"
      ]
     },
     "execution_count": 10,
     "metadata": {},
     "output_type": "execute_result"
    }
   ],
   "source": [
    "sum_advertising = sum([i for i in new_list_advertising if i > 0 ])\n",
    "sum_advertising"
   ]
  },
  {
   "cell_type": "markdown",
   "id": "5f3e98e5",
   "metadata": {},
   "source": [
    "# Задание 4"
   ]
  },
  {
   "cell_type": "markdown",
   "id": "39ee38e0",
   "metadata": {},
   "source": [
    "**Даны два списка.**\n",
    "\n",
    "**Дата покупки\n",
    "['2021-09-14', '2021-12-15', '2021-09-08', '2021-12-05', '2021-10-09', '2021-09-30', '2021-12-22', '2021-11-29', '2021-12-24', '2021-11-26', '2021-10-27', '2021-12-18', '2021-11-09', '2021-11-23', '2021-09-27', '2021-10-02', '2021-12-27', '2021-09-20', '2021-12-13', '2021-11-01', '2021-11-09', '2021-12-06', '2021-12-08', '2021-10-09', '2021-10-31', '2021-09-30', '2021-11-09', '2021-12-13', '2021-10-26', '2021-12-09']**\n",
    "\n",
    "**Суммы покупок по датам\n",
    "[1270, 8413, 9028, 3703, 5739, 4095, 295, 4944, 5723, 3701, 4471, 651, 7037, 4274, 6275, 4988, 6930, 2971, 6592, 2004, 2822, 519, 3406, 2732, 5015, 2008, 316, 6333, 5700, 2887]**"
   ]
  },
  {
   "cell_type": "markdown",
   "id": "ba2de08c",
   "metadata": {},
   "source": [
    "## Задание 4.1"
   ]
  },
  {
   "cell_type": "markdown",
   "id": "b3ef10b9",
   "metadata": {},
   "source": [
    "**Найдите, какая выручка у компании в ноябре. \n",
    "Используйте list comprehensions**"
   ]
  },
  {
   "cell_type": "code",
   "execution_count": 11,
   "id": "4659d93f",
   "metadata": {},
   "outputs": [],
   "source": [
    "date = ['2021-09-14', '2021-12-15', '2021-09-08', '2021-12-05', '2021-10-09', \n",
    "        '2021-09-30', '2021-12-22', '2021-11-29', '2021-12-24', '2021-11-26', \n",
    "        '2021-10-27', '2021-12-18', '2021-11-09', '2021-11-23', '2021-09-27', \n",
    "        '2021-10-02', '2021-12-27', '2021-09-20', '2021-12-13', '2021-11-01', \n",
    "        '2021-11-09', '2021-12-06', '2021-12-08', '2021-10-09', '2021-10-31', \n",
    "        '2021-09-30', '2021-11-09', '2021-12-13', '2021-10-26', '2021-12-09']\n",
    "cost = [1270, 8413, 9028, 3703, 5739, 4095, 295, 4944, 5723, 3701, \n",
    "        4471, 651, 7037, 4274, 6275, 4988, 6930, 2971, 6592, 2004, \n",
    "        2822, 519, 3406, 2732, 5015, 2008, 316, 6333, 5700, 2887]"
   ]
  },
  {
   "cell_type": "code",
   "execution_count": 12,
   "id": "9b3629d6",
   "metadata": {},
   "outputs": [
    {
     "name": "stdout",
     "output_type": "stream",
     "text": [
      "[4944, 3701, 7037, 4274, 2004, 2822, 316]\n",
      "Выручка у компании в ноябре: 25098\n"
     ]
    }
   ],
   "source": [
    "november = [cost[i] for i in range(0, len(date)-1) if \"-11\" in date[i]]\n",
    "print(november)\n",
    "sum_november = sum([cost[i] for i in range(len(date)-1) if \"-11\" in date[i]])\n",
    "print(f'Выручка у компании в ноябре: {sum_november}')"
   ]
  },
  {
   "cell_type": "markdown",
   "id": "3582fea3",
   "metadata": {},
   "source": [
    "## Задача 4.2"
   ]
  },
  {
   "cell_type": "markdown",
   "id": "e2b24947",
   "metadata": {},
   "source": [
    "**Найдите выручку компании в зависимости от месяца. \n",
    "Для этого напишите функцию, которая на вход принимает список с датами и список с выручкой, а на выходе словарь, где ключи - это месяцы, а значения - это выручка.\n",
    "Используйте аннотирование типов.**"
   ]
  },
  {
   "cell_type": "code",
   "execution_count": 13,
   "id": "1f1900bd",
   "metadata": {},
   "outputs": [
    {
     "name": "stdout",
     "output_type": "stream",
     "text": [
      "{'09': 25647, '12': 45452, '10': 28645, '11': 25098}\n"
     ]
    }
   ],
   "source": [
    "def profits(data1: list, data2: list) -> dict:\n",
    "    \n",
    "    profits = {}\n",
    "    \n",
    "    for i in range(len(data1)):\n",
    "        \n",
    "        if data1[i].split('-')[1] in profits.keys():\n",
    "            profits[data1[i].split('-')[1]] += data2[i]\n",
    "        else:\n",
    "            profits[data1[i].split('-')[1]] = data2[i]\n",
    "            \n",
    "    return profits\n",
    "\n",
    "profits_months = profits(date, cost)\n",
    "print(profits_months)"
   ]
  }
 ],
 "metadata": {
  "kernelspec": {
   "display_name": "Python 3 (ipykernel)",
   "language": "python",
   "name": "python3"
  },
  "language_info": {
   "codemirror_mode": {
    "name": "ipython",
    "version": 3
   },
   "file_extension": ".py",
   "mimetype": "text/x-python",
   "name": "python",
   "nbconvert_exporter": "python",
   "pygments_lexer": "ipython3",
   "version": "3.10.11"
  }
 },
 "nbformat": 4,
 "nbformat_minor": 5
}
